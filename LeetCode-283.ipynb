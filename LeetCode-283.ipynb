{
 "cells": [
  {
   "cell_type": "code",
   "execution_count": 77,
   "metadata": {},
   "outputs": [],
   "source": [
    "def moveZeroes(nums: list[int]) -> None:\n",
    "    \"\"\"\n",
    "    Do not return anything, modify nums in-place instead.\n",
    "    \"\"\"\n",
    "    n = len(nums)\n",
    "    if n == 1:\n",
    "        return nums\n",
    "    elif n == 2:\n",
    "        nums.sort()\n",
    "    p = 0\n",
    "    q = 0\n",
    "    while q < n and p < n:\n",
    "        while p < n and nums[p] != 0:\n",
    "            p += 1\n",
    "        while q < n and nums[q] == 0:\n",
    "            q += 1\n",
    "        print(p, q)\n",
    "        print(nums)\n",
    "        if p < q and q < n:\n",
    "            tem = nums[q]\n",
    "            nums[q] = nums[p]\n",
    "            nums[p] = tem \n",
    "    return nums"
   ]
  },
  {
   "cell_type": "code",
   "execution_count": 82,
   "metadata": {},
   "outputs": [],
   "source": [
    "test0 = [0,1,0,3,12]\n",
    "test1 = [1]\n",
    "test2 = [0]\n",
    "test3 = [0,1]\n",
    "test4 = [2,1]\n"
   ]
  },
  {
   "cell_type": "code",
   "execution_count": 83,
   "metadata": {},
   "outputs": [
    {
     "name": "stdout",
     "output_type": "stream",
     "text": [
      "2 0\n",
      "[1, 2]\n"
     ]
    },
    {
     "data": {
      "text/plain": [
       "[1, 2]"
      ]
     },
     "execution_count": 83,
     "metadata": {},
     "output_type": "execute_result"
    }
   ],
   "source": [
    "moveZeroes(test4)"
   ]
  },
  {
   "cell_type": "code",
   "execution_count": null,
   "metadata": {},
   "outputs": [],
   "source": []
  },
  {
   "cell_type": "code",
   "execution_count": null,
   "metadata": {},
   "outputs": [],
   "source": []
  }
 ],
 "metadata": {
  "kernelspec": {
   "display_name": "Python 3",
   "language": "python",
   "name": "python3"
  },
  "language_info": {
   "codemirror_mode": {
    "name": "ipython",
    "version": 3
   },
   "file_extension": ".py",
   "mimetype": "text/x-python",
   "name": "python",
   "nbconvert_exporter": "python",
   "pygments_lexer": "ipython3",
   "version": "3.11.4"
  }
 },
 "nbformat": 4,
 "nbformat_minor": 2
}
