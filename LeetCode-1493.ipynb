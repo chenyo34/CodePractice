{
 "cells": [
  {
   "cell_type": "code",
   "execution_count": 33,
   "metadata": {},
   "outputs": [],
   "source": [
    "\n",
    "def longestSubarray(nums: list[int]) -> int:\n",
    "    maxOnes = 0\n",
    "    zeros = 0\n",
    "    i = 0\n",
    "    j = 0\n",
    "    while j < len(nums):\n",
    "        print(\"=\"*10 + str(j) + \"=\"*10)\n",
    "        if nums[j] == 0:\n",
    "            zeros += 1\n",
    "\n",
    "        if zeros > 1:\n",
    "\n",
    "            if nums[i] == 0:\n",
    "                zeros -= 1\n",
    "            i += 1\n",
    "\n",
    "        maxOnes = max(maxOnes, j-i)\n",
    "        print(nums[i:j+1])\n",
    "        print(maxOnes)  \n",
    "\n",
    "\n",
    "        j += 1\n",
    "    return maxOnes\n",
    "\n"
   ]
  },
  {
   "cell_type": "code",
   "execution_count": 36,
   "metadata": {},
   "outputs": [
    {
     "name": "stdout",
     "output_type": "stream",
     "text": [
      "==========0==========\n",
      "[0]\n",
      "1\n",
      "==========1==========\n",
      "[0, 1]\n",
      "2\n",
      "==========2==========\n",
      "[0, 1, 1]\n",
      "3\n",
      "==========3==========\n",
      "[0, 1, 1, 1]\n",
      "4\n",
      "==========4==========\n",
      "[1, 1, 1, 0]\n",
      "4\n",
      "==========5==========\n",
      "[1, 1, 0, 0]\n",
      "4\n",
      "==========6==========\n",
      "[1, 0, 0, 1]\n",
      "4\n"
     ]
    },
    {
     "data": {
      "text/plain": [
       "4"
      ]
     },
     "execution_count": 36,
     "metadata": {},
     "output_type": "execute_result"
    }
   ],
   "source": [
    "longestSubarray([0,1,1,1,0,0,1])"
   ]
  },
  {
   "cell_type": "code",
   "execution_count": null,
   "metadata": {},
   "outputs": [],
   "source": []
  },
  {
   "cell_type": "code",
   "execution_count": null,
   "metadata": {},
   "outputs": [],
   "source": []
  }
 ],
 "metadata": {
  "kernelspec": {
   "display_name": "Python 3",
   "language": "python",
   "name": "python3"
  },
  "language_info": {
   "codemirror_mode": {
    "name": "ipython",
    "version": 3
   },
   "file_extension": ".py",
   "mimetype": "text/x-python",
   "name": "python",
   "nbconvert_exporter": "python",
   "pygments_lexer": "ipython3",
   "version": "3.11.4"
  }
 },
 "nbformat": 4,
 "nbformat_minor": 2
}
