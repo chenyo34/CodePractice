{
 "cells": [
  {
   "cell_type": "code",
   "execution_count": null,
   "metadata": {},
   "outputs": [],
   "source": [
    "def largestAltitude(self, gain: List[int]) -> int:\n",
    "    max_alt = 0\n",
    "    cur_alt = 0\n",
    "    for i in range(len(gain)):\n",
    "            cur_alt += gain[i]\n",
    "            max_alt = max(max_alt, cur_alt)\n",
    "    return max_alt"
   ]
  }
 ],
 "metadata": {
  "kernelspec": {
   "display_name": "Python 3",
   "language": "python",
   "name": "python3"
  },
  "language_info": {
   "name": "python",
   "version": "3.11.4"
  }
 },
 "nbformat": 4,
 "nbformat_minor": 2
}
