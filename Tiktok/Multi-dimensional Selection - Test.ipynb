{
 "cells": [
  {
   "cell_type": "code",
   "execution_count": 25,
   "id": "b8cdc690",
   "metadata": {},
   "outputs": [],
   "source": [
    "import pandas as pd\n",
    "import numpy as np\n",
    "import random"
   ]
  },
  {
   "cell_type": "code",
   "execution_count": 55,
   "id": "5b799041",
   "metadata": {},
   "outputs": [
    {
     "data": {
      "text/plain": [
       "array([[18, 24, 46, 40,  7, 18, 38, 82],\n",
       "       [20, 97, 32, 32, 90, 14, 57, 70],\n",
       "       [53, 64, 12, 63,  9, 50, 60, 46]])"
      ]
     },
     "execution_count": 55,
     "metadata": {},
     "output_type": "execute_result"
    }
   ],
   "source": [
    "random.seed(123)\n",
    "n = 3\n",
    "m = 8\n",
    "a = np.random.randint(low = 1,\n",
    "                     high=100,\n",
    "                     size = (n,m))\n",
    "a"
   ]
  },
  {
   "cell_type": "code",
   "execution_count": 56,
   "id": "d7decf4a",
   "metadata": {},
   "outputs": [],
   "source": [
    "a.sort(axis = 1)"
   ]
  },
  {
   "cell_type": "code",
   "execution_count": 57,
   "id": "7abbddcf",
   "metadata": {},
   "outputs": [],
   "source": [
    "# bottom 中最da值最大值 \n",
    "# top中 最xiao值最小值"
   ]
  },
  {
   "cell_type": "code",
   "execution_count": 58,
   "id": "c39912a4",
   "metadata": {
    "scrolled": false
   },
   "outputs": [
    {
     "data": {
      "text/plain": [
       "array([[ 7, 18, 18, 24, 38, 40, 46, 82],\n",
       "       [14, 20, 32, 32, 57, 70, 90, 97],\n",
       "       [ 9, 12, 46, 50, 53, 60, 63, 64]])"
      ]
     },
     "execution_count": 58,
     "metadata": {},
     "output_type": "execute_result"
    }
   ],
   "source": [
    "a"
   ]
  },
  {
   "cell_type": "code",
   "execution_count": 59,
   "id": "8db0cbaf",
   "metadata": {},
   "outputs": [
    {
     "data": {
      "text/plain": [
       "[7,\n",
       " 9,\n",
       " 12,\n",
       " 14,\n",
       " 18,\n",
       " 18,\n",
       " 20,\n",
       " 24,\n",
       " 32,\n",
       " 32,\n",
       " 38,\n",
       " 40,\n",
       " 46,\n",
       " 46,\n",
       " 50,\n",
       " 53,\n",
       " 57,\n",
       " 60,\n",
       " 63,\n",
       " 64,\n",
       " 70,\n",
       " 82,\n",
       " 90,\n",
       " 97]"
      ]
     },
     "execution_count": 59,
     "metadata": {},
     "output_type": "execute_result"
    }
   ],
   "source": [
    "b = list(a.reshape(1,-1)[0])\n",
    "b.sort()\n",
    "b"
   ]
  },
  {
   "cell_type": "code",
   "execution_count": 60,
   "id": "64a0f2dd",
   "metadata": {
    "scrolled": false
   },
   "outputs": [
    {
     "data": {
      "text/plain": [
       "46"
      ]
     },
     "execution_count": 60,
     "metadata": {},
     "output_type": "execute_result"
    }
   ],
   "source": [
    "b[round(n*m/2)]"
   ]
  },
  {
   "cell_type": "code",
   "execution_count": 99,
   "id": "916ecc41",
   "metadata": {
    "scrolled": false
   },
   "outputs": [
    {
     "name": "stdout",
     "output_type": "stream",
     "text": [
      "p:1, q:23\n",
      "True\n",
      "=============\n",
      "\n",
      "p:2, q:23\n",
      "True\n",
      "=============\n",
      "\n",
      "p:3, q:23\n",
      "True\n",
      "=============\n",
      "\n",
      "p:4, q:23\n",
      "True\n",
      "=============\n",
      "\n",
      "p:5, q:23\n",
      "True\n",
      "=============\n",
      "\n",
      "p:6, q:23\n",
      "True\n",
      "=============\n",
      "\n",
      "p:7, q:23\n",
      "True\n",
      "=============\n",
      "\n",
      "p:7, q:22\n",
      "p:7, q:22\n",
      "True\n",
      "=============\n",
      "\n",
      "p:7, q:21\n",
      "p:7, q:21\n",
      "True\n",
      "=============\n",
      "\n",
      "p:8, q:21\n",
      "True\n",
      "=============\n",
      "\n",
      "p:9, q:21\n",
      "True\n",
      "=============\n",
      "\n",
      "p:9, q:21\n",
      "False\n",
      "=============\n",
      "\n"
     ]
    }
   ],
   "source": [
    "p = 0\n",
    "q = n*m-1\n",
    "checked = True\n",
    "while q - p >= m*n/2 and checked:\n",
    "    \n",
    "    q_next = q-1\n",
    "    p_next = p+1\n",
    "    left_dif = b[q] - b[q_next]\n",
    "    right_dif = b[p_next] - b[p]\n",
    "\n",
    "    if left_dif <= right_dif and sum(((a >= b[p])*(a <= b[q_next])).sum(axis = 1) >= m/2) == n:\n",
    "        q = q_next\n",
    "        print(f'p:{p}, q:{q}')\n",
    "    elif left_dif > right_dif and sum(((a >= b[p_next])*(a <= b[q])).sum(axis = 1) >= m/2) == n:\n",
    "        p = p_next\n",
    "    else:\n",
    "        checked = False\n",
    "    print(f'p:{p}, q:{q}')\n",
    "    print(checked)\n",
    "    print(\"=============\\n\")"
   ]
  },
  {
   "cell_type": "code",
   "execution_count": 104,
   "id": "f5d0c6c3",
   "metadata": {},
   "outputs": [
    {
     "data": {
      "text/plain": [
       "700"
      ]
     },
     "execution_count": 104,
     "metadata": {},
     "output_type": "execute_result"
    }
   ],
   "source": [
    "(b[21]-b[9])*(4+4+6)"
   ]
  },
  {
   "cell_type": "code",
   "execution_count": 105,
   "id": "3d519a18",
   "metadata": {},
   "outputs": [
    {
     "data": {
      "text/plain": [
       "644"
      ]
     },
     "execution_count": 105,
     "metadata": {},
     "output_type": "execute_result"
    }
   ],
   "source": [
    "14*(70-24)"
   ]
  },
  {
   "cell_type": "code",
   "execution_count": 102,
   "id": "b40ab8a7",
   "metadata": {},
   "outputs": [
    {
     "data": {
      "text/plain": [
       "array([[ 7, 18, 18, 24, 38, 40, 46, 82],\n",
       "       [14, 20, 32, 32, 57, 70, 90, 97],\n",
       "       [ 9, 12, 46, 50, 53, 60, 63, 64]])"
      ]
     },
     "execution_count": 102,
     "metadata": {},
     "output_type": "execute_result"
    }
   ],
   "source": [
    "a"
   ]
  },
  {
   "cell_type": "code",
   "execution_count": 90,
   "id": "58c428ec",
   "metadata": {},
   "outputs": [
    {
     "name": "stdout",
     "output_type": "stream",
     "text": [
      "0, 24\n"
     ]
    }
   ],
   "source": [
    "print(f'p:{p}, q:{q}')"
   ]
  },
  {
   "cell_type": "code",
   "execution_count": null,
   "id": "f2bd19a6",
   "metadata": {},
   "outputs": [],
   "source": []
  },
  {
   "cell_type": "code",
   "execution_count": 71,
   "id": "fceba100",
   "metadata": {
    "scrolled": true
   },
   "outputs": [
    {
     "data": {
      "text/plain": [
       "array([[ 7, 18, 18, 24, 38, 40, 46, 82],\n",
       "       [14, 20, 32, 32, 57, 70, 90, 97],\n",
       "       [ 9, 12, 46, 50, 53, 60, 63, 64]])"
      ]
     },
     "execution_count": 71,
     "metadata": {},
     "output_type": "execute_result"
    }
   ],
   "source": [
    "a"
   ]
  },
  {
   "cell_type": "markdown",
   "id": "9e20cf48",
   "metadata": {},
   "source": [
    "n"
   ]
  },
  {
   "cell_type": "code",
   "execution_count": 77,
   "id": "9d3d9642",
   "metadata": {},
   "outputs": [
    {
     "data": {
      "text/plain": [
       "False"
      ]
     },
     "execution_count": 77,
     "metadata": {},
     "output_type": "execute_result"
    }
   ],
   "source": [
    "p = 55\n",
    "q = 80\n",
    "sum(((a >= p)*(a <= 80)).sum(axis = 1) >= m/2) == n"
   ]
  },
  {
   "cell_type": "code",
   "execution_count": null,
   "id": "fb661625",
   "metadata": {},
   "outputs": [],
   "source": [
    "说明第一行和第三行没有满足m/2"
   ]
  },
  {
   "cell_type": "code",
   "execution_count": 9,
   "id": "87896a5b",
   "metadata": {},
   "outputs": [
    {
     "data": {
      "text/plain": [
       "array([23,  8, 50])"
      ]
     },
     "execution_count": 9,
     "metadata": {},
     "output_type": "execute_result"
    }
   ],
   "source": [
    "# The smallest in Top m/2 \n",
    "a[:,2]\n",
    "# choose "
   ]
  },
  {
   "cell_type": "code",
   "execution_count": 36,
   "id": "a745e22b",
   "metadata": {},
   "outputs": [
    {
     "data": {
      "text/plain": [
       "array([1, 1, 2])"
      ]
     },
     "execution_count": 36,
     "metadata": {},
     "output_type": "execute_result"
    }
   ],
   "source": [
    "# The biggest in Bottom m/2\n",
    "a[:, 1]"
   ]
  },
  {
   "cell_type": "code",
   "execution_count": null,
   "id": "0c9aaffc",
   "metadata": {},
   "outputs": [],
   "source": [
    "# -x----x-----[x------------0]-------0--------0------"
   ]
  }
 ],
 "metadata": {
  "kernelspec": {
   "display_name": "Python 3",
   "language": "python",
   "name": "python3"
  },
  "language_info": {
   "codemirror_mode": {
    "name": "ipython",
    "version": 3
   },
   "file_extension": ".py",
   "mimetype": "text/x-python",
   "name": "python",
   "nbconvert_exporter": "python",
   "pygments_lexer": "ipython3",
   "version": "3.10.7"
  },
  "vscode": {
   "interpreter": {
    "hash": "aee8b7b246df8f9039afb4144a1f6fd8d2ca17a180786b69acc140d282b71a49"
   }
  }
 },
 "nbformat": 4,
 "nbformat_minor": 5
}
