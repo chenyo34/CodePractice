{
 "cells": [
  {
   "cell_type": "code",
   "execution_count": 1,
   "id": "b8cdc690",
   "metadata": {},
   "outputs": [],
   "source": [
    "import pandas as pd\n",
    "import numpy as np\n",
    "import random"
   ]
  },
  {
   "cell_type": "code",
   "execution_count": 6,
   "id": "1cef8fda",
   "metadata": {},
   "outputs": [],
   "source": [
    "import math\n",
    "\n",
    "def getMaxProduct0(arr):\n",
    "    n, m = len(arr), len(arr[0])\n",
    "    lo, hi = 0, max(max(row) for row in arr) - min(min(row) for row in arr)\n",
    "    while lo < hi:\n",
    "        mid = (lo + hi) // 2\n",
    "        max_cnt = 0\n",
    "        for row in arr:\n",
    "            cnt = 0\n",
    "            l, r = 0, math.ceil(m / 2)\n",
    "            window_sum = sum(row[l:r])\n",
    "            while r <= m:\n",
    "                if window_sum <= mid:\n",
    "                    cnt = r - l\n",
    "                    l += 1\n",
    "                    r += 1\n",
    "                    window_sum += row[r-1] - row[l-1]\n",
    "                else:\n",
    "                    window_sum -= row[l] - row[l-1]\n",
    "                    l += 1\n",
    "            max_cnt = max(max_cnt, cnt)\n",
    "        if max_cnt >= math.ceil(m / 2):\n",
    "            lo = mid + 1\n",
    "        else:\n",
    "            hi = mid\n",
    "    return lo * max_cnt\n",
    "\n",
    "def getMaxProduct1(arr):\n",
    "    n = len(arr)\n",
    "    m = len(arr[0])\n",
    "    \n",
    "    # 先将每行的数据排序，然后计算排序后中间的一段数据的最小值，用于求解最小代价\n",
    "    for i in range(n):\n",
    "        arr[i].sort()\n",
    "        \n",
    "    # 初始代价设为正无穷大\n",
    "    cost = float('inf')\n",
    "    # 枚举第一个数字和第二个数字，计算每个数字作为最小值时的代价\n",
    "    for i in range(m):\n",
    "        for j in range(i+1, m):\n",
    "            # 对于每个数字作为最小值时，计算这个数字所在列的代价\n",
    "            col = [arr[k][i:j+1] for k in range(n)]\n",
    "            col_min = [min(row) for row in col]\n",
    "            col_max = max(col_min)\n",
    "            cost = min(cost, col_max - min(col_min))\n",
    "    \n",
    "    # 计算最小代价的个数\n",
    "    cnt = (n * m + m) // 2\n",
    "    \n",
    "    # 计算最大乘积\n",
    "    max_product = cost * cnt\n",
    "    return max_product\n"
   ]
  },
  {
   "cell_type": "code",
   "execution_count": 2,
   "id": "5b799041",
   "metadata": {},
   "outputs": [
    {
     "data": {
      "text/plain": [
       "array([[57, 29, 61, 45, 30, 85, 87, 61],\n",
       "       [97, 77, 52, 10, 58, 53, 97, 96],\n",
       "       [87, 56, 65, 95, 74, 51, 57, 79]])"
      ]
     },
     "execution_count": 2,
     "metadata": {},
     "output_type": "execute_result"
    }
   ],
   "source": [
    "# random.seed(123)\n",
    "# n = 3\n",
    "# m = 8\n",
    "# a = np.random.randint(low = 1,\n",
    "#                      high=100,\n",
    "#                      size = (n,m))\n",
    "# a"
   ]
  },
  {
   "cell_type": "code",
   "execution_count": 11,
   "id": "c2a1844f",
   "metadata": {},
   "outputs": [
    {
     "data": {
      "text/plain": [
       "(3, 8)"
      ]
     },
     "execution_count": 11,
     "metadata": {},
     "output_type": "execute_result"
    }
   ],
   "source": [
    "a = np.array([[ 7, 18, 18, 24, 38, 40, 46, 82],\n",
    "       [14, 20, 32, 32, 57, 70, 90, 97],\n",
    "       [ 9, 12, 46, 50, 53, 60, 63, 64]])\n",
    "a.shape"
   ]
  },
  {
   "cell_type": "code",
   "execution_count": 12,
   "id": "a748dfd6",
   "metadata": {},
   "outputs": [
    {
     "data": {
      "text/plain": [
       "array([[ 7, 18, 18, 24, 38, 40, 46, 82],\n",
       "       [14, 20, 32, 32, 57, 70, 90, 97],\n",
       "       [ 9, 12, 46, 50, 53, 60, 63, 64]])"
      ]
     },
     "execution_count": 12,
     "metadata": {},
     "output_type": "execute_result"
    }
   ],
   "source": [
    "a"
   ]
  },
  {
   "cell_type": "code",
   "execution_count": 7,
   "id": "af705ccf",
   "metadata": {},
   "outputs": [
    {
     "ename": "IndexError",
     "evalue": "index 8 is out of bounds for axis 0 with size 8",
     "output_type": "error",
     "traceback": [
      "\u001b[1;31m---------------------------------------------------------------------------\u001b[0m",
      "\u001b[1;31mIndexError\u001b[0m                                Traceback (most recent call last)",
      "Cell \u001b[1;32mIn[7], line 1\u001b[0m\n\u001b[1;32m----> 1\u001b[0m \u001b[43mgetMaxProduct\u001b[49m\u001b[43m(\u001b[49m\u001b[43ma\u001b[49m\u001b[43m)\u001b[49m\n",
      "Cell \u001b[1;32mIn[6], line 20\u001b[0m, in \u001b[0;36mgetMaxProduct\u001b[1;34m(arr)\u001b[0m\n\u001b[0;32m     18\u001b[0m         window_sum \u001b[38;5;241m+\u001b[39m\u001b[38;5;241m=\u001b[39m row[r\u001b[38;5;241m-\u001b[39m\u001b[38;5;241m1\u001b[39m] \u001b[38;5;241m-\u001b[39m row[l\u001b[38;5;241m-\u001b[39m\u001b[38;5;241m1\u001b[39m]\n\u001b[0;32m     19\u001b[0m     \u001b[38;5;28;01melse\u001b[39;00m:\n\u001b[1;32m---> 20\u001b[0m         window_sum \u001b[38;5;241m-\u001b[39m\u001b[38;5;241m=\u001b[39m \u001b[43mrow\u001b[49m\u001b[43m[\u001b[49m\u001b[43ml\u001b[49m\u001b[43m]\u001b[49m \u001b[38;5;241m-\u001b[39m row[l\u001b[38;5;241m-\u001b[39m\u001b[38;5;241m1\u001b[39m]\n\u001b[0;32m     21\u001b[0m         l \u001b[38;5;241m+\u001b[39m\u001b[38;5;241m=\u001b[39m \u001b[38;5;241m1\u001b[39m\n\u001b[0;32m     22\u001b[0m max_cnt \u001b[38;5;241m=\u001b[39m \u001b[38;5;28mmax\u001b[39m(max_cnt, cnt)\n",
      "\u001b[1;31mIndexError\u001b[0m: index 8 is out of bounds for axis 0 with size 8"
     ]
    }
   ],
   "source": [
    "getMaxProduct(a)"
   ]
  },
  {
   "cell_type": "code",
   "execution_count": 3,
   "id": "d7decf4a",
   "metadata": {},
   "outputs": [],
   "source": [
    "a.sort(axis = 1)"
   ]
  },
  {
   "cell_type": "code",
   "execution_count": 4,
   "id": "7abbddcf",
   "metadata": {},
   "outputs": [],
   "source": [
    "# bottom 中最da值最大值 \n",
    "# top中 最xiao值最小值"
   ]
  },
  {
   "cell_type": "code",
   "execution_count": 5,
   "id": "c39912a4",
   "metadata": {
    "scrolled": false
   },
   "outputs": [
    {
     "data": {
      "text/plain": [
       "array([[29, 30, 45, 57, 61, 61, 85, 87],\n",
       "       [10, 52, 53, 58, 77, 96, 97, 97],\n",
       "       [51, 56, 57, 65, 74, 79, 87, 95]])"
      ]
     },
     "execution_count": 5,
     "metadata": {},
     "output_type": "execute_result"
    }
   ],
   "source": [
    "a"
   ]
  },
  {
   "cell_type": "code",
   "execution_count": 59,
   "id": "8db0cbaf",
   "metadata": {},
   "outputs": [
    {
     "data": {
      "text/plain": [
       "[7,\n",
       " 9,\n",
       " 12,\n",
       " 14,\n",
       " 18,\n",
       " 18,\n",
       " 20,\n",
       " 24,\n",
       " 32,\n",
       " 32,\n",
       " 38,\n",
       " 40,\n",
       " 46,\n",
       " 46,\n",
       " 50,\n",
       " 53,\n",
       " 57,\n",
       " 60,\n",
       " 63,\n",
       " 64,\n",
       " 70,\n",
       " 82,\n",
       " 90,\n",
       " 97]"
      ]
     },
     "execution_count": 59,
     "metadata": {},
     "output_type": "execute_result"
    }
   ],
   "source": [
    "b = list(a.reshape(1,-1)[0])\n",
    "b.sort()\n",
    "b"
   ]
  },
  {
   "cell_type": "code",
   "execution_count": 60,
   "id": "64a0f2dd",
   "metadata": {
    "scrolled": false
   },
   "outputs": [
    {
     "data": {
      "text/plain": [
       "46"
      ]
     },
     "execution_count": 60,
     "metadata": {},
     "output_type": "execute_result"
    }
   ],
   "source": [
    "b[round(n*m/2)]"
   ]
  },
  {
   "cell_type": "code",
   "execution_count": 99,
   "id": "916ecc41",
   "metadata": {
    "scrolled": false
   },
   "outputs": [
    {
     "name": "stdout",
     "output_type": "stream",
     "text": [
      "p:1, q:23\n",
      "True\n",
      "=============\n",
      "\n",
      "p:2, q:23\n",
      "True\n",
      "=============\n",
      "\n",
      "p:3, q:23\n",
      "True\n",
      "=============\n",
      "\n",
      "p:4, q:23\n",
      "True\n",
      "=============\n",
      "\n",
      "p:5, q:23\n",
      "True\n",
      "=============\n",
      "\n",
      "p:6, q:23\n",
      "True\n",
      "=============\n",
      "\n",
      "p:7, q:23\n",
      "True\n",
      "=============\n",
      "\n",
      "p:7, q:22\n",
      "p:7, q:22\n",
      "True\n",
      "=============\n",
      "\n",
      "p:7, q:21\n",
      "p:7, q:21\n",
      "True\n",
      "=============\n",
      "\n",
      "p:8, q:21\n",
      "True\n",
      "=============\n",
      "\n",
      "p:9, q:21\n",
      "True\n",
      "=============\n",
      "\n",
      "p:9, q:21\n",
      "False\n",
      "=============\n",
      "\n"
     ]
    }
   ],
   "source": [
    "p = 0\n",
    "q = n*m-1\n",
    "checked = True\n",
    "while q - p >= m*n/2 and checked:\n",
    "    \n",
    "    q_next = q-1\n",
    "    p_next = p+1\n",
    "    left_dif = b[q] - b[q_next]\n",
    "    right_dif = b[p_next] - b[p]\n",
    "\n",
    "    if left_dif <= right_dif and sum(((a >= b[p])*(a <= b[q_next])).sum(axis = 1) >= m/2) == n:\n",
    "        q = q_next\n",
    "        print(f'p:{p}, q:{q}')\n",
    "    elif left_dif > right_dif and sum(((a >= b[p_next])*(a <= b[q])).sum(axis = 1) >= m/2) == n:\n",
    "        p = p_next\n",
    "    else:\n",
    "        checked = False\n",
    "    print(f'p:{p}, q:{q}')\n",
    "    print(checked)\n",
    "    print(\"=============\\n\")"
   ]
  },
  {
   "cell_type": "code",
   "execution_count": 104,
   "id": "f5d0c6c3",
   "metadata": {},
   "outputs": [
    {
     "data": {
      "text/plain": [
       "700"
      ]
     },
     "execution_count": 104,
     "metadata": {},
     "output_type": "execute_result"
    }
   ],
   "source": [
    "(b[21]-b[9])*(4+4+6)"
   ]
  },
  {
   "cell_type": "code",
   "execution_count": 105,
   "id": "3d519a18",
   "metadata": {},
   "outputs": [
    {
     "data": {
      "text/plain": [
       "644"
      ]
     },
     "execution_count": 105,
     "metadata": {},
     "output_type": "execute_result"
    }
   ],
   "source": [
    "14*(70-24)"
   ]
  },
  {
   "cell_type": "code",
   "execution_count": 102,
   "id": "b40ab8a7",
   "metadata": {},
   "outputs": [
    {
     "data": {
      "text/plain": [
       "array([[ 7, 18, 18, 24, 38, 40, 46, 82],\n",
       "       [14, 20, 32, 32, 57, 70, 90, 97],\n",
       "       [ 9, 12, 46, 50, 53, 60, 63, 64]])"
      ]
     },
     "execution_count": 102,
     "metadata": {},
     "output_type": "execute_result"
    }
   ],
   "source": [
    "a"
   ]
  },
  {
   "cell_type": "code",
   "execution_count": 90,
   "id": "58c428ec",
   "metadata": {},
   "outputs": [
    {
     "name": "stdout",
     "output_type": "stream",
     "text": [
      "0, 24\n"
     ]
    }
   ],
   "source": [
    "print(f'p:{p}, q:{q}')"
   ]
  },
  {
   "cell_type": "code",
   "execution_count": null,
   "id": "f2bd19a6",
   "metadata": {},
   "outputs": [],
   "source": []
  },
  {
   "cell_type": "code",
   "execution_count": 71,
   "id": "fceba100",
   "metadata": {
    "scrolled": true
   },
   "outputs": [
    {
     "data": {
      "text/plain": [
       "array([[ 7, 18, 18, 24, 38, 40, 46, 82],\n",
       "       [14, 20, 32, 32, 57, 70, 90, 97],\n",
       "       [ 9, 12, 46, 50, 53, 60, 63, 64]])"
      ]
     },
     "execution_count": 71,
     "metadata": {},
     "output_type": "execute_result"
    }
   ],
   "source": [
    "a"
   ]
  },
  {
   "cell_type": "markdown",
   "id": "9e20cf48",
   "metadata": {},
   "source": [
    "n"
   ]
  },
  {
   "cell_type": "code",
   "execution_count": 77,
   "id": "9d3d9642",
   "metadata": {},
   "outputs": [
    {
     "data": {
      "text/plain": [
       "False"
      ]
     },
     "execution_count": 77,
     "metadata": {},
     "output_type": "execute_result"
    }
   ],
   "source": [
    "p = 55\n",
    "q = 80\n",
    "sum(((a >= p)*(a <= 80)).sum(axis = 1) >= m/2) == n"
   ]
  },
  {
   "cell_type": "code",
   "execution_count": null,
   "id": "fb661625",
   "metadata": {},
   "outputs": [],
   "source": [
    "说明第一行和第三行没有满足m/2"
   ]
  },
  {
   "cell_type": "code",
   "execution_count": 9,
   "id": "87896a5b",
   "metadata": {},
   "outputs": [
    {
     "data": {
      "text/plain": [
       "array([23,  8, 50])"
      ]
     },
     "execution_count": 9,
     "metadata": {},
     "output_type": "execute_result"
    }
   ],
   "source": [
    "# The smallest in Top m/2 \n",
    "a[:,2]\n",
    "# choose "
   ]
  },
  {
   "cell_type": "code",
   "execution_count": 36,
   "id": "a745e22b",
   "metadata": {},
   "outputs": [
    {
     "data": {
      "text/plain": [
       "array([1, 1, 2])"
      ]
     },
     "execution_count": 36,
     "metadata": {},
     "output_type": "execute_result"
    }
   ],
   "source": [
    "# The biggest in Bottom m/2\n",
    "a[:, 1]"
   ]
  },
  {
   "cell_type": "code",
   "execution_count": null,
   "id": "0c9aaffc",
   "metadata": {},
   "outputs": [],
   "source": [
    "#  -x----x-----x--------p----0-------0---q-----0------  "
   ]
  }
 ],
 "metadata": {
  "kernelspec": {
   "display_name": "Python 3 (ipykernel)",
   "language": "python",
   "name": "python3"
  },
  "language_info": {
   "codemirror_mode": {
    "name": "ipython",
    "version": 3
   },
   "file_extension": ".py",
   "mimetype": "text/x-python",
   "name": "python",
   "nbconvert_exporter": "python",
   "pygments_lexer": "ipython3",
   "version": "3.11.1"
  },
  "vscode": {
   "interpreter": {
    "hash": "aee8b7b246df8f9039afb4144a1f6fd8d2ca17a180786b69acc140d282b71a49"
   }
  }
 },
 "nbformat": 4,
 "nbformat_minor": 5
}
