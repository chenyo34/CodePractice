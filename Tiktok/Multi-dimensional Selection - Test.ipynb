{
 "cells": [
  {
   "cell_type": "code",
   "execution_count": 25,
   "id": "b8cdc690",
   "metadata": {},
   "outputs": [],
   "source": [
    "import pandas as pd\n",
    "import numpy as np\n",
    "import random"
   ]
  },
  {
   "cell_type": "code",
   "execution_count": 55,
   "id": "5b799041",
   "metadata": {},
   "outputs": [
    {
     "data": {
      "text/plain": [
       "array([[18, 24, 46, 40,  7, 18, 38, 82],\n",
       "       [20, 97, 32, 32, 90, 14, 57, 70],\n",
       "       [53, 64, 12, 63,  9, 50, 60, 46]])"
      ]
     },
     "execution_count": 55,
     "metadata": {},
     "output_type": "execute_result"
    }
   ],
   "source": [
    "random.seed(123)\n",
    "n = 3\n",
    "m = 8\n",
    "a = np.random.randint(low = 1,\n",
    "                     high=100,\n",
    "                     size = (n,m))\n",
    "a"
   ]
  },
  {
   "cell_type": "code",
   "execution_count": 56,
   "id": "d7decf4a",
   "metadata": {},
   "outputs": [],
   "source": [
    "a.sort(axis = 1)"
   ]
  },
  {
   "cell_type": "code",
   "execution_count": 57,
   "id": "7abbddcf",
   "metadata": {},
   "outputs": [],
   "source": [
    "# bottom 中最da值最大值 \n",
    "# top中 最xiao值最小值"
   ]
  },
  {
   "cell_type": "code",
   "execution_count": 58,
   "id": "c39912a4",
   "metadata": {
    "scrolled": false
   },
   "outputs": [
    {
     "data": {
      "text/plain": [
       "array([[ 7, 18, 18, 24, 38, 40, 46, 82],\n",
       "       [14, 20, 32, 32, 57, 70, 90, 97],\n",
       "       [ 9, 12, 46, 50, 53, 60, 63, 64]])"
      ]
     },
     "execution_count": 58,
     "metadata": {},
     "output_type": "execute_result"
    }
   ],
   "source": [
    "a"
   ]
  },
  {
   "cell_type": "code",
   "execution_count": 59,
   "id": "8db0cbaf",
   "metadata": {},
   "outputs": [
    {
     "data": {
      "text/plain": [
       "[7,\n",
       " 9,\n",
       " 12,\n",
       " 14,\n",
       " 18,\n",
       " 18,\n",
       " 20,\n",
       " 24,\n",
       " 32,\n",
       " 32,\n",
       " 38,\n",
       " 40,\n",
       " 46,\n",
       " 46,\n",
       " 50,\n",
       " 53,\n",
       " 57,\n",
       " 60,\n",
       " 63,\n",
       " 64,\n",
       " 70,\n",
       " 82,\n",
       " 90,\n",
       " 97]"
      ]
     },
     "execution_count": 59,
     "metadata": {},
     "output_type": "execute_result"
    }
   ],
   "source": [
    "b = list(a.reshape(1,-1)[0])\n",
    "b.sort()\n",
    "b"
   ]
  },
  {
   "cell_type": "code",
   "execution_count": 60,
   "id": "64a0f2dd",
   "metadata": {
    "scrolled": true
   },
   "outputs": [
    {
     "data": {
      "text/plain": [
       "46"
      ]
     },
     "execution_count": 60,
     "metadata": {},
     "output_type": "execute_result"
    }
   ],
   "source": [
    "b[round(n*m/2)]"
   ]
  },
  {
   "cell_type": "code",
   "execution_count": 63,
   "id": "916ecc41",
   "metadata": {},
   "outputs": [
    {
     "data": {
      "text/plain": [
       "array([False,  True, False])"
      ]
     },
     "execution_count": 63,
     "metadata": {},
     "output_type": "execute_result"
    }
   ],
   "source": [
    "(a > 55).sum(axis = 1) >= 4"
   ]
  },
  {
   "cell_type": "code",
   "execution_count": null,
   "id": "fb661625",
   "metadata": {},
   "outputs": [],
   "source": [
    "说明第一行和第三行没有满足m/2"
   ]
  },
  {
   "cell_type": "code",
   "execution_count": 9,
   "id": "87896a5b",
   "metadata": {},
   "outputs": [
    {
     "data": {
      "text/plain": [
       "array([23,  8, 50])"
      ]
     },
     "execution_count": 9,
     "metadata": {},
     "output_type": "execute_result"
    }
   ],
   "source": [
    "# The smallest in Top m/2 \n",
    "a[:,2]\n",
    "# choose "
   ]
  },
  {
   "cell_type": "code",
   "execution_count": 36,
   "id": "a745e22b",
   "metadata": {},
   "outputs": [
    {
     "data": {
      "text/plain": [
       "array([1, 1, 2])"
      ]
     },
     "execution_count": 36,
     "metadata": {},
     "output_type": "execute_result"
    }
   ],
   "source": [
    "# The biggest in Bottom m/2\n",
    "a[:, 1]"
   ]
  },
  {
   "cell_type": "code",
   "execution_count": null,
   "id": "0c9aaffc",
   "metadata": {},
   "outputs": [],
   "source": [
    "# -x----x-----[x------------0]-------0--------0------"
   ]
  }
 ],
 "metadata": {
  "kernelspec": {
   "display_name": "Python 3 (ipykernel)",
   "language": "python",
   "name": "python3"
  },
  "language_info": {
   "codemirror_mode": {
    "name": "ipython",
    "version": 3
   },
   "file_extension": ".py",
   "mimetype": "text/x-python",
   "name": "python",
   "nbconvert_exporter": "python",
   "pygments_lexer": "ipython3",
   "version": "3.11.0"
  }
 },
 "nbformat": 4,
 "nbformat_minor": 5
}
