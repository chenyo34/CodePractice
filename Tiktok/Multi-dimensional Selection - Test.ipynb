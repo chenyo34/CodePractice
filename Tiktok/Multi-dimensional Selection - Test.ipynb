{
 "cells": [
  {
   "cell_type": "code",
   "execution_count": 61,
   "id": "b8cdc690",
   "metadata": {},
   "outputs": [],
   "source": [
    "import pandas as pd\n",
    "import numpy as np\n",
    "import random\n",
    "import math"
   ]
  },
  {
   "cell_type": "code",
   "execution_count": 15,
   "id": "5b799041",
   "metadata": {},
   "outputs": [],
   "source": [
    "# random.seed(123)\n",
    "n = 3\n",
    "m = 8\n",
    "# a = np.random.randint(low = 1,\n",
    "#                      high=100,\n",
    "#                      size = (n,m))\n",
    "# a"
   ]
  },
  {
   "cell_type": "code",
   "execution_count": 27,
   "id": "c39912a4",
   "metadata": {
    "scrolled": false
   },
   "outputs": [],
   "source": [
    "a = np.array([[ 18, 7, 18, 24, 38, 40, 46, 82],\n",
    "       [14, 20, 32, 32, 57, 70, 90, 97],\n",
    "       [ 9, 12, 46, 50, 53, 60, 63, 64]])"
   ]
  },
  {
   "cell_type": "code",
   "execution_count": 28,
   "id": "8db0cbaf",
   "metadata": {},
   "outputs": [],
   "source": [
    "b = list(a.reshape(1,-1)[0])\n",
    "b.sort()"
   ]
  },
  {
   "cell_type": "code",
   "execution_count": 29,
   "id": "64855311",
   "metadata": {},
   "outputs": [
    {
     "data": {
      "text/plain": [
       "array([[ 7, 18, 18, 24, 38, 40, 46, 82],\n",
       "       [14, 20, 32, 32, 57, 70, 90, 97],\n",
       "       [ 9, 12, 46, 50, 53, 60, 63, 64]])"
      ]
     },
     "execution_count": 29,
     "metadata": {},
     "output_type": "execute_result"
    }
   ],
   "source": [
    "a_copy = a.copy()\n",
    "a_copy.sort(axis = 1)\n",
    "a_copy"
   ]
  },
  {
   "cell_type": "code",
   "execution_count": 83,
   "id": "8fc65690",
   "metadata": {},
   "outputs": [],
   "source": [
    "def checkValidity(arr, a, b):\n",
    "    \n",
    "    n = arr.shape[0]\n",
    "    m = arr.shape[1]\n",
    "    \n",
    "    CheckMatrix = (arr >= a)*(arr <= b)\n",
    "    print(CheckMatrix)\n",
    "    rowCount = np.sum(CheckMatrix, axis = 1)\n",
    "    return np.sum(rowCount >= m/2) == n"
   ]
  },
  {
   "cell_type": "code",
   "execution_count": 106,
   "id": "9149c395",
   "metadata": {},
   "outputs": [
    {
     "name": "stdout",
     "output_type": "stream",
     "text": [
      "[[ True False  True  True  True  True  True  True]\n",
      " [ True  True  True  True  True  True  True  True]\n",
      " [ True  True  True  True  True  True  True  True]]\n"
     ]
    },
    {
     "data": {
      "text/plain": [
       "True"
      ]
     },
     "execution_count": 106,
     "metadata": {},
     "output_type": "execute_result"
    }
   ],
   "source": [
    "checkValidity(a, 9,97)"
   ]
  },
  {
   "cell_type": "code",
   "execution_count": 111,
   "id": "916ecc41",
   "metadata": {
    "scrolled": false
   },
   "outputs": [],
   "source": [
    "# Attempt 1\n",
    "def getMaxProduct(array):\n",
    "    \n",
    "    n = array.shape[0]\n",
    "    m = array.shape[1]\n",
    "    mid = math.ceil(m/2)\n",
    "    arr = array.copy()\n",
    "    arr.sort(axis = 1)\n",
    "    sortedArr = list(array.reshape(1,-1)[0])\n",
    "    sortedArr.sort()\n",
    "    p = 0\n",
    "    q = n*m-1\n",
    "    checked = True\n",
    "    \n",
    "    while q - p >= m*n/2 and checked:\n",
    "        \n",
    "        q_next = q-1\n",
    "        p_next = p+1\n",
    "        right_dif = sortedArr[q] - sortedArr[q_next]\n",
    "        left_dif = sortedArr[p_next] - sortedArr[p]\n",
    "        rightcheck = checkValidity(array, sortedArr[p], sortedArr[q_next])\n",
    "        leftcheck = checkValidity(array,sortedArr[p_next],sortedArr[q])\n",
    "        print(f'p:{sortedArr[p]}, q:{sortedArr[q]}, right:{rightcheck}, left:{leftcheck}')\n",
    "        \n",
    "        if left_dif <= right_dif and rightcheck:\n",
    "            print(f'{sortedArr[q]} become {sortedArr[q_next]}')\n",
    "            q = q_next\n",
    "            \n",
    "        elif left_dif > right_dif and leftcheck:\n",
    "            print(f'{sortedArr[p]} become {sortedArr[p_next]}')\n",
    "            p = p_next\n",
    "            \n",
    "        else:\n",
    "            checked = False\n",
    "        print(f'p:{sortedArr[p]}, q:{sortedArr[q]}')\n",
    "        print(\"=============\\n\")\n",
    "    \n",
    "    # Calculate the Product\n",
    "    b = sortedArr[q]\n",
    "    a = sortedArr[p]\n",
    "    k = b - a\n",
    "    CheckMatrix = (array >= a)*(array <= b)\n",
    "    print(CheckMatrix)\n",
    "    n = np.sum(1*CheckMatrix)\n",
    "    print(k)\n",
    "    print(n)\n",
    "    print(str(k*n))\n",
    "    print(\"====end====\")"
   ]
  },
  {
   "cell_type": "code",
   "execution_count": 112,
   "id": "d70f6089",
   "metadata": {
    "scrolled": false
   },
   "outputs": [
    {
     "name": "stdout",
     "output_type": "stream",
     "text": [
      "[[ True  True  True  True  True  True  True  True]\n",
      " [ True  True  True  True  True  True  True False]\n",
      " [ True  True  True  True  True  True  True  True]]\n",
      "[[ True False  True  True  True  True  True  True]\n",
      " [ True  True  True  True  True  True  True  True]\n",
      " [ True  True  True  True  True  True  True  True]]\n",
      "p:7, q:97, right:True, left:True\n",
      "97 become 90\n",
      "p:7, q:90\n",
      "=============\n",
      "\n",
      "[[ True  True  True  True  True  True  True  True]\n",
      " [ True  True  True  True  True  True False False]\n",
      " [ True  True  True  True  True  True  True  True]]\n",
      "[[ True False  True  True  True  True  True  True]\n",
      " [ True  True  True  True  True  True  True False]\n",
      " [ True  True  True  True  True  True  True  True]]\n",
      "p:7, q:90, right:True, left:True\n",
      "90 become 82\n",
      "p:7, q:82\n",
      "=============\n",
      "\n",
      "[[ True  True  True  True  True  True  True False]\n",
      " [ True  True  True  True  True  True False False]\n",
      " [ True  True  True  True  True  True  True  True]]\n",
      "[[ True False  True  True  True  True  True  True]\n",
      " [ True  True  True  True  True  True False False]\n",
      " [ True  True  True  True  True  True  True  True]]\n",
      "p:7, q:82, right:True, left:True\n",
      "82 become 70\n",
      "p:7, q:70\n",
      "=============\n",
      "\n",
      "[[ True  True  True  True  True  True  True False]\n",
      " [ True  True  True  True  True False False False]\n",
      " [ True  True  True  True  True  True  True  True]]\n",
      "[[ True False  True  True  True  True  True False]\n",
      " [ True  True  True  True  True  True False False]\n",
      " [ True  True  True  True  True  True  True  True]]\n",
      "p:7, q:70, right:True, left:True\n",
      "70 become 64\n",
      "p:7, q:64\n",
      "=============\n",
      "\n",
      "[[ True  True  True  True  True  True  True False]\n",
      " [ True  True  True  True  True False False False]\n",
      " [ True  True  True  True  True  True  True False]]\n",
      "[[ True False  True  True  True  True  True False]\n",
      " [ True  True  True  True  True False False False]\n",
      " [ True  True  True  True  True  True  True  True]]\n",
      "p:7, q:64, right:True, left:True\n",
      "7 become 9\n",
      "p:9, q:64\n",
      "=============\n",
      "\n",
      "[[ True False  True  True  True  True  True False]\n",
      " [ True  True  True  True  True False False False]\n",
      " [ True  True  True  True  True  True  True False]]\n",
      "[[ True False  True  True  True  True  True False]\n",
      " [ True  True  True  True  True False False False]\n",
      " [False  True  True  True  True  True  True  True]]\n",
      "p:9, q:64, right:True, left:True\n",
      "9 become 12\n",
      "p:12, q:64\n",
      "=============\n",
      "\n",
      "[[ True False  True  True  True  True  True False]\n",
      " [ True  True  True  True  True False False False]\n",
      " [False  True  True  True  True  True  True False]]\n",
      "[[ True False  True  True  True  True  True False]\n",
      " [ True  True  True  True  True False False False]\n",
      " [False False  True  True  True  True  True  True]]\n",
      "p:12, q:64, right:True, left:True\n",
      "12 become 14\n",
      "p:14, q:64\n",
      "=============\n",
      "\n",
      "[[ True False  True  True  True  True  True False]\n",
      " [ True  True  True  True  True False False False]\n",
      " [False False  True  True  True  True  True False]]\n",
      "[[ True False  True  True  True  True  True False]\n",
      " [False  True  True  True  True False False False]\n",
      " [False False  True  True  True  True  True  True]]\n",
      "p:14, q:64, right:True, left:True\n",
      "14 become 18\n",
      "p:18, q:64\n",
      "=============\n",
      "\n",
      "[[ True False  True  True  True  True  True False]\n",
      " [False  True  True  True  True False False False]\n",
      " [False False  True  True  True  True  True False]]\n",
      "[[ True False  True  True  True  True  True False]\n",
      " [False  True  True  True  True False False False]\n",
      " [False False  True  True  True  True  True  True]]\n",
      "p:18, q:64, right:True, left:True\n",
      "64 become 63\n",
      "p:18, q:63\n",
      "=============\n",
      "\n",
      "[[ True False  True  True  True  True  True False]\n",
      " [False  True  True  True  True False False False]\n",
      " [False False  True  True  True  True False False]]\n",
      "[[ True False  True  True  True  True  True False]\n",
      " [False  True  True  True  True False False False]\n",
      " [False False  True  True  True  True  True False]]\n",
      "p:18, q:63, right:True, left:True\n",
      "63 become 60\n",
      "p:18, q:60\n",
      "=============\n",
      "\n",
      "[[ True False  True  True  True  True  True False]\n",
      " [False  True  True  True  True False False False]\n",
      " [False False  True  True  True False False False]]\n",
      "[[ True False  True  True  True  True  True False]\n",
      " [False  True  True  True  True False False False]\n",
      " [False False  True  True  True  True False False]]\n",
      "p:18, q:60, right:False, left:True\n",
      "p:18, q:60\n",
      "=============\n",
      "\n",
      "[[ True False  True  True  True  True  True False]\n",
      " [False  True  True  True  True False False False]\n",
      " [False False  True  True  True  True False False]]\n",
      "42\n",
      "14\n",
      "588\n",
      "====end====\n"
     ]
    }
   ],
   "source": [
    "getMaxProduct(a)"
   ]
  },
  {
   "cell_type": "code",
   "execution_count": null,
   "id": "9d3d9642",
   "metadata": {},
   "outputs": [],
   "source": [
    "p = 55\n",
    "q = 80\n",
    "sum(((a >= p)*(a <= 80)).sum(axis = 1) >= m/2) == n"
   ]
  },
  {
   "cell_type": "code",
   "execution_count": null,
   "id": "fb661625",
   "metadata": {},
   "outputs": [],
   "source": [
    "说明第一行和第三行没有满足m/2"
   ]
  },
  {
   "cell_type": "code",
   "execution_count": null,
   "id": "87896a5b",
   "metadata": {},
   "outputs": [],
   "source": [
    "# The smallest in Top m/2 \n",
    "a[:,2]\n",
    "# choose "
   ]
  },
  {
   "cell_type": "code",
   "execution_count": null,
   "id": "a745e22b",
   "metadata": {},
   "outputs": [],
   "source": [
    "# The biggest in Bottom m/2\n",
    "a[:, 1]"
   ]
  },
  {
   "cell_type": "code",
   "execution_count": null,
   "id": "0c9aaffc",
   "metadata": {},
   "outputs": [],
   "source": [
    "# -x----x-----[x------------0]-------0--------0------"
   ]
  }
 ],
 "metadata": {
  "kernelspec": {
   "display_name": "Python 3 (ipykernel)",
   "language": "python",
   "name": "python3"
  },
  "language_info": {
   "codemirror_mode": {
    "name": "ipython",
    "version": 3
   },
   "file_extension": ".py",
   "mimetype": "text/x-python",
   "name": "python",
   "nbconvert_exporter": "python",
   "pygments_lexer": "ipython3",
   "version": "3.11.1"
  },
  "vscode": {
   "interpreter": {
    "hash": "aee8b7b246df8f9039afb4144a1f6fd8d2ca17a180786b69acc140d282b71a49"
   }
  }
 },
 "nbformat": 4,
 "nbformat_minor": 5
}
