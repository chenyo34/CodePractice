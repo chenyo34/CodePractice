{
 "cells": [
  {
   "cell_type": "code",
   "execution_count": 48,
   "metadata": {},
   "outputs": [],
   "source": [
    "def longestOnes(nums: list[int],\n",
    "                k:int) -> int:\n",
    "    if k >= len(nums):\n",
    "        return k\n",
    "    p = 0\n",
    "    q = 0\n",
    "    max_ones = 0\n",
    "    cur_ones = 0\n",
    "    for i in range(len(nums)):\n",
    "        if nums[i] == 1: # 1 is detected, no flip required    \n",
    "            q += 1\n",
    "            cur_ones += 1\n",
    "        else: # 0 is detected, a flip required\n",
    "            # Check k to see that is the next step\n",
    "            \n",
    "            if k > 0: # flip are non-zero\n",
    "                k -= 1\n",
    "                q += 1\n",
    "                cur_ones += 1\n",
    "            else: # No change to flip\n",
    "                 # Update the max value\n",
    "                max_ones = max(max_ones, cur_ones)\n",
    "                # Shrink the left bound p and get back a change to flip \n",
    "                while nums[p] != 0:\n",
    "                    p += 1\n",
    "                    cur_ones -= 1\n",
    "                k += 1\n",
    "                p += 1\n",
    "                cur_ones -= 1\n",
    "        # Debug information print-out\n",
    "        print(\"\\n\"+\"=\"*10+str(i) + \"th\"+\"=\"*10)\n",
    "        print(\"k:\" + str(k))\n",
    "        print(\"p:\" + str(p) + \" to \" + \"q:\" + str(q))\n",
    "        print(nums[p:q])\n",
    "        print(\"max:\" + str(max_ones) + \"  cur:\" + str(cur_ones))\n",
    "    max_ones = max(max_ones, cur_ones)\n",
    "    return max_ones\n",
    "                "
   ]
  },
  {
   "cell_type": "code",
   "execution_count": 73,
   "metadata": {},
   "outputs": [],
   "source": [
    "def longestOnes(nums: list[int],k: int) -> int : \n",
    "    i=0\n",
    "    max_ones=0\n",
    "    j=0      \n",
    "    # zeros=0\n",
    "    while j<len(nums):\n",
    "        if nums[j]==0:\n",
    "            # zeros+=1\n",
    "            k -= 1 \n",
    "        if k < 0:\n",
    "            max_ones=max(max_ones,j-i)\n",
    "            if nums[i]==0:\n",
    "                k += 1\n",
    "            i+=1 \n",
    "            \n",
    "        j+=1\n",
    "        # Debug information print-out\n",
    "    #     print(\"=\"*10)\n",
    "    #     print(\"k:\" + str(k))\n",
    "    #     print(\"i:\" + str(i) + \" to \" + \"j:\" + str(j))\n",
    "    #     print(nums[i:j])\n",
    "    #     print(\"max:\" + str(max_ones))\n",
    "    return max_ones\n",
    "                \n",
    "\n",
    "                "
   ]
  },
  {
   "cell_type": "code",
   "execution_count": 74,
   "metadata": {},
   "outputs": [
    {
     "data": {
      "text/plain": [
       "10"
      ]
     },
     "execution_count": 74,
     "metadata": {},
     "output_type": "execute_result"
    }
   ],
   "source": [
    "nums = [0,0,1,1,0,0,1,1,1,0,1,1,0,0,0,1,1,1,1]\n",
    "k = 3\n",
    "longestOnes(nums, k)"
   ]
  },
  {
   "cell_type": "code",
   "execution_count": null,
   "metadata": {},
   "outputs": [],
   "source": []
  },
  {
   "cell_type": "code",
   "execution_count": null,
   "metadata": {},
   "outputs": [],
   "source": []
  }
 ],
 "metadata": {
  "kernelspec": {
   "display_name": "Python 3",
   "language": "python",
   "name": "python3"
  },
  "language_info": {
   "codemirror_mode": {
    "name": "ipython",
    "version": 3
   },
   "file_extension": ".py",
   "mimetype": "text/x-python",
   "name": "python",
   "nbconvert_exporter": "python",
   "pygments_lexer": "ipython3",
   "version": "3.11.4"
  }
 },
 "nbformat": 4,
 "nbformat_minor": 2
}
