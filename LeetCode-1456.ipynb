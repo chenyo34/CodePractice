{
 "cells": [
  {
   "cell_type": "code",
   "execution_count": 38,
   "metadata": {},
   "outputs": [],
   "source": [
    "def maxVowels(s: str, k: int) -> int:\n",
    "        max_vow = 0\n",
    "        n = len(s)\n",
    "        for i in range(n-k+1):\n",
    "            j = 0\n",
    "            cur_max = 0\n",
    "            while j < k:\n",
    "                if s[i+j].lower() in ['a', 'e', 'i', 'o', 'u']:\n",
    "                    cur_max += 1\n",
    "                j += 1\n",
    "\n",
    "            max_vow = max(max_vow, cur_max) \n",
    "            print(\"=\"*20)\n",
    "            print(\"start: \" + str(i))\n",
    "            print(\"end: \" + str(j))\n",
    "            print(\"Substring is:\" + s[i:i+j] + '\\n' + \"Current Max length is:\" + str(cur_max))\n",
    "        return max_vow"
   ]
  },
  {
   "cell_type": "code",
   "execution_count": 58,
   "metadata": {},
   "outputs": [],
   "source": [
    "def maxVowels(s: str, k: int) -> int:\n",
    "        max_vow = 0\n",
    "        cur_max = 0\n",
    "        n = len(s)\n",
    "        substr = []\n",
    "        for i in range(n):\n",
    "            if len(substr) < k:\n",
    "                substr.append(s[i])\n",
    "                if s[i].lower() in ['a', 'e', 'i', 'o', 'u']:\n",
    "                    cur_max += 1\n",
    "            else:\n",
    "                delta = 1*(s[i].lower() in ['a', 'e', 'i', 'o', 'u']) - \\\n",
    "                            1*(substr[0].lower() in ['a', 'e', 'i', 'o', 'u'])\n",
    "                substr.pop(0)\n",
    "                substr.append(s[i])\n",
    "                cur_max = cur_max + delta\n",
    "            max_vow = max(max_vow, cur_max) \n",
    "            print(\"=\"*20)\n",
    "            print(\"\".join(substr))\n",
    "            print(str(max_vow))\n",
    "        return max_vow"
   ]
  },
  {
   "cell_type": "code",
   "execution_count": 59,
   "metadata": {},
   "outputs": [
    {
     "name": "stdout",
     "output_type": "stream",
     "text": [
      "====================\n",
      "l\n",
      "0\n",
      "====================\n",
      "le\n",
      "1\n",
      "====================\n",
      "lee\n",
      "2\n",
      "====================\n",
      "eet\n",
      "2\n",
      "====================\n",
      "etc\n",
      "2\n",
      "====================\n",
      "tco\n",
      "2\n",
      "====================\n",
      "cod\n",
      "2\n",
      "====================\n",
      "ode\n",
      "2\n"
     ]
    },
    {
     "data": {
      "text/plain": [
       "2"
      ]
     },
     "execution_count": 59,
     "metadata": {},
     "output_type": "execute_result"
    },
    {
     "ename": "",
     "evalue": "",
     "output_type": "error",
     "traceback": [
      "\u001b[1;31mThe Kernel crashed while executing code in the the current cell or a previous cell. Please review the code in the cell(s) to identify a possible cause of the failure. Click <a href='https://aka.ms/vscodeJupyterKernelCrash'>here</a> for more info. View Jupyter <a href='command:jupyter.viewOutput'>log</a> for further details."
     ]
    }
   ],
   "source": [
    "maxVowels(\"leetcode\", 3)"
   ]
  },
  {
   "cell_type": "code",
   "execution_count": null,
   "metadata": {},
   "outputs": [],
   "source": []
  },
  {
   "cell_type": "code",
   "execution_count": null,
   "metadata": {},
   "outputs": [],
   "source": []
  }
 ],
 "metadata": {
  "kernelspec": {
   "display_name": "Python 3",
   "language": "python",
   "name": "python3"
  },
  "language_info": {
   "codemirror_mode": {
    "name": "ipython",
    "version": 3
   },
   "file_extension": ".py",
   "mimetype": "text/x-python",
   "name": "python",
   "nbconvert_exporter": "python",
   "pygments_lexer": "ipython3",
   "version": "3.11.4"
  }
 },
 "nbformat": 4,
 "nbformat_minor": 2
}
