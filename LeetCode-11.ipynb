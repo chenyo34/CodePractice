{
 "cells": [
  {
   "cell_type": "code",
   "execution_count": 20,
   "metadata": {},
   "outputs": [],
   "source": [
    "def maxArea(height: list[int]) -> int:\n",
    "    width = len(height)\n",
    "    if width == 0:\n",
    "        return 0 \n",
    "    p = 0\n",
    "    q = width-1\n",
    "    output = -1\n",
    "    while p <= q:\n",
    "        h = min(height[p],height[q])\n",
    "        w = q - p\n",
    "        cur_area = h*w\n",
    "        output = max(cur_area, output)\n",
    "        print(output)\n",
    "        if height[p] < height[q]:\n",
    "            p += 1\n",
    "        else:\n",
    "            q -= 1\n",
    "        print(p,q)\n",
    "        print(\"+\"*20)\n",
    "    return output\n",
    "\n",
    "\n",
    "      "
   ]
  },
  {
   "cell_type": "code",
   "execution_count": 21,
   "metadata": {},
   "outputs": [
    {
     "name": "stdout",
     "output_type": "stream",
     "text": [
      "8\n",
      "1 8\n",
      "++++++++++++++++++++\n",
      "49\n",
      "1 7\n",
      "++++++++++++++++++++\n",
      "49\n",
      "1 6\n",
      "++++++++++++++++++++\n",
      "49\n",
      "1 5\n",
      "++++++++++++++++++++\n",
      "49\n",
      "1 4\n",
      "++++++++++++++++++++\n",
      "49\n",
      "1 3\n",
      "++++++++++++++++++++\n",
      "49\n",
      "1 2\n",
      "++++++++++++++++++++\n",
      "49\n",
      "1 1\n",
      "++++++++++++++++++++\n",
      "49\n",
      "1 0\n",
      "++++++++++++++++++++\n"
     ]
    },
    {
     "data": {
      "text/plain": [
       "49"
      ]
     },
     "execution_count": 21,
     "metadata": {},
     "output_type": "execute_result"
    }
   ],
   "source": [
    "test1 = [1,8,6,2,5,4,8,3,7]\n",
    "maxArea(test1)"
   ]
  },
  {
   "cell_type": "code",
   "execution_count": null,
   "metadata": {},
   "outputs": [],
   "source": []
  }
 ],
 "metadata": {
  "kernelspec": {
   "display_name": "Python 3",
   "language": "python",
   "name": "python3"
  },
  "language_info": {
   "codemirror_mode": {
    "name": "ipython",
    "version": 3
   },
   "file_extension": ".py",
   "mimetype": "text/x-python",
   "name": "python",
   "nbconvert_exporter": "python",
   "pygments_lexer": "ipython3",
   "version": "3.11.4"
  }
 },
 "nbformat": 4,
 "nbformat_minor": 2
}
